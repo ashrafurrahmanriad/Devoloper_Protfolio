{
  "nbformat": 4,
  "nbformat_minor": 0,
  "metadata": {
    "colab": {
      "provenance": [],
      "authorship_tag": "ABX9TyPqyqR1x9pWtcaq0W6xtUbT",
      "include_colab_link": true
    },
    "kernelspec": {
      "name": "python3",
      "display_name": "Python 3"
    },
    "language_info": {
      "name": "python"
    }
  },
  "cells": [
    {
      "cell_type": "markdown",
      "metadata": {
        "id": "view-in-github",
        "colab_type": "text"
      },
      "source": [
        "<a href=\"https://colab.research.google.com/github/ashrafurrahmanriad/Devoloper_Protfolio/blob/main/Assignment_Day_2.ipynb\" target=\"_parent\"><img src=\"https://colab.research.google.com/assets/colab-badge.svg\" alt=\"Open In Colab\"/></a>"
      ]
    },
    {
      "cell_type": "markdown",
      "source": [
        "# 2.1. Try it yourself: Create variables for your name, age, and favorite color, then print them with descriptive labels."
      ],
      "metadata": {
        "id": "KyPjMpEMpCJ0"
      }
    },
    {
      "cell_type": "code",
      "source": [
        "Name = \"Md Ashrafur Rahman\"\n",
        "Age = 24\n",
        "Favorite_Color = \"Blue\"\n",
        "print(Name)\n",
        "print(Age)\n",
        "print(Favorite_Color)"
      ],
      "metadata": {
        "colab": {
          "base_uri": "https://localhost:8080/"
        },
        "id": "wi5X73yepGNN",
        "outputId": "d8d028c4-7849-44d5-a6b7-a178bc2295f8"
      },
      "execution_count": 1,
      "outputs": [
        {
          "output_type": "stream",
          "name": "stdout",
          "text": [
            "Md Ashrafur Rahman\n",
            "24\n",
            "Blue\n"
          ]
        }
      ]
    },
    {
      "cell_type": "markdown",
      "source": [
        "# 2.2. Try it yourself: Create one variable of each type and use the type() function to verify its type."
      ],
      "metadata": {
        "id": "Hd0dpbu3pd4H"
      }
    },
    {
      "cell_type": "code",
      "source": [
        "Name = \"Md Ashrafur Rahman\"\n",
        "Age = 24\n",
        "Weight = 24.44\n",
        "Area =2.3942832382\n",
        "Favorite_Color = \"Blue\"\n",
        "print(type(Area))\n",
        "print(type(Name))\n",
        "print(type(Weight))\n",
        "print(type(Age))\n",
        "print(type(Favorite_Color))"
      ],
      "metadata": {
        "colab": {
          "base_uri": "https://localhost:8080/"
        },
        "id": "c2rMc3l1poBF",
        "outputId": "44519a81-f1a6-493e-b562-457d9b1a7728"
      },
      "execution_count": 4,
      "outputs": [
        {
          "output_type": "stream",
          "name": "stdout",
          "text": [
            "<class 'float'>\n",
            "<class 'str'>\n",
            "<class 'float'>\n",
            "<class 'int'>\n",
            "<class 'str'>\n"
          ]
        }
      ]
    }
  ]
}