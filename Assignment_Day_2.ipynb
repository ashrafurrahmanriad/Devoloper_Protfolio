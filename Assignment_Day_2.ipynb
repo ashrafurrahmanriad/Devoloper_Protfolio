{
  "nbformat": 4,
  "nbformat_minor": 0,
  "metadata": {
    "colab": {
      "provenance": [],
      "authorship_tag": "ABX9TyPetdgUR3kxc1PcpnHpvV9y",
      "include_colab_link": true
    },
    "kernelspec": {
      "name": "python3",
      "display_name": "Python 3"
    },
    "language_info": {
      "name": "python"
    }
  },
  "cells": [
    {
      "cell_type": "markdown",
      "metadata": {
        "id": "view-in-github",
        "colab_type": "text"
      },
      "source": [
        "<a href=\"https://colab.research.google.com/github/ashrafurrahmanriad/Devoloper_Protfolio/blob/main/Assignment_Day_2.ipynb\" target=\"_parent\"><img src=\"https://colab.research.google.com/assets/colab-badge.svg\" alt=\"Open In Colab\"/></a>"
      ]
    },
    {
      "cell_type": "markdown",
      "source": [
        "# 2.7 Try it yourself: Create a tuple with the latitude and longitude of a famous place in Bangladesh."
      ],
      "metadata": {
        "id": "UHxi_4JjZrnS"
      }
    },
    {
      "cell_type": "markdown",
      "source": [
        "# 2.1. Try it yourself: Create variables for your name, age, and favorite color, then print them with descriptive labels."
      ],
      "metadata": {
        "id": "KyPjMpEMpCJ0"
      }
    },
    {
      "cell_type": "code",
      "source": [
        "Name = \"Md Ashrafur Rahman\"\n",
        "Age = 24\n",
        "Favorite_Color = \"Blue\"\n",
        "print(Name)\n",
        "print(Age)\n",
        "print(Favorite_Color)"
      ],
      "metadata": {
        "colab": {
          "base_uri": "https://localhost:8080/"
        },
        "id": "wi5X73yepGNN",
        "outputId": "d8d028c4-7849-44d5-a6b7-a178bc2295f8"
      },
      "execution_count": null,
      "outputs": [
        {
          "output_type": "stream",
          "name": "stdout",
          "text": [
            "Md Ashrafur Rahman\n",
            "24\n",
            "Blue\n"
          ]
        }
      ]
    },
    {
      "cell_type": "markdown",
      "source": [
        "# 2.2. Try it yourself: Create one variable of each type and use the type() function to verify its type."
      ],
      "metadata": {
        "id": "Hd0dpbu3pd4H"
      }
    },
    {
      "cell_type": "code",
      "source": [
        "Name = \"Md Ashrafur Rahman\"\n",
        "Age = 24\n",
        "Weight = 24.44\n",
        "Area =2.3942832382\n",
        "Favorite_Color = \"Blue\"\n",
        "Is_B00leant = True\n",
        "complex_number = 5 + 3j\n",
        "result = None\n",
        "print(type(result))\n",
        "print(type(complex_number))\n",
        "print(type(Is_B00leant))\n",
        "print(type(Area))\n",
        "print(type(Name))\n",
        "print(type(Weight))\n",
        "print(type(Age))\n",
        "print(type(Favorite_Color))"
      ],
      "metadata": {
        "colab": {
          "base_uri": "https://localhost:8080/"
        },
        "id": "c2rMc3l1poBF",
        "outputId": "159c9036-e346-448d-8103-1e5d04ce4ed2"
      },
      "execution_count": null,
      "outputs": [
        {
          "output_type": "stream",
          "name": "stdout",
          "text": [
            "<class 'complex'>\n",
            "<class 'bool'>\n",
            "<class 'float'>\n",
            "<class 'str'>\n",
            "<class 'float'>\n",
            "<class 'int'>\n",
            "<class 'str'>\n"
          ]
        }
      ]
    },
    {
      "cell_type": "markdown",
      "source": [
        "# 2.3. Try it yourself: Calculate the area and perimeter of a rectangle with length 7 and width 5."
      ],
      "metadata": {
        "id": "fGue1sXDsfR_"
      }
    },
    {
      "cell_type": "code",
      "source": [
        "Length = 7\n",
        "Width = 5\n",
        "\n",
        "Area_Of_Rectangle = Length*Width\n",
        "Perimeter_Of_Rectangle = 2*(Length+Width)\n",
        "print(Area_Of_Rectangle)\n",
        "print(Perimeter_Of_Rectangle)"
      ],
      "metadata": {
        "colab": {
          "base_uri": "https://localhost:8080/"
        },
        "id": "ed01jjuhtbKA",
        "outputId": "19f9181a-f924-4b7b-c9a8-c669180e7008"
      },
      "execution_count": null,
      "outputs": [
        {
          "output_type": "stream",
          "name": "stdout",
          "text": [
            "35\n",
            "24\n"
          ]
        }
      ]
    },
    {
      "cell_type": "markdown",
      "source": [
        "# 2.4. Try it yourself: Create a list of 5 Bangladeshi foods, then access the first and last elements."
      ],
      "metadata": {
        "id": "fLT_6ixex0ic"
      }
    },
    {
      "cell_type": "code",
      "source": [
        "Food = [\"Mango\",\"Banana\", \"JAckFruit\",\"Black Berry\",\"Berry\"]\n",
        "print (Food)\n",
        "print(Food[0])\n",
        "print(Food[-1])\n"
      ],
      "metadata": {
        "colab": {
          "base_uri": "https://localhost:8080/"
        },
        "id": "pv8nMaatx4zv",
        "outputId": "b5194541-9097-4572-fede-66889b833ad4"
      },
      "execution_count": null,
      "outputs": [
        {
          "output_type": "stream",
          "name": "stdout",
          "text": [
            "['Mango', 'Banana', 'JAckFruit', 'Black Berry', 'Berry']\n",
            "Mango\n",
            "Berry\n"
          ]
        }
      ]
    },
    {
      "cell_type": "markdown",
      "source": [
        "# 2.5 Try it yourself: Create a list of 5 numbers, add a new number, remove one, and then sort the list."
      ],
      "metadata": {
        "id": "MazO-KqkyUNf"
      }
    },
    {
      "cell_type": "code",
      "source": [
        "Number = [1,2,3,4,5]\n",
        "print(Number)\n",
        "Number.append(6)\n",
        "print(Number)\n",
        "Number.remove(3)\n",
        "print(Number)\n",
        "Number.sort()\n",
        "print(Number)\n"
      ],
      "metadata": {
        "colab": {
          "base_uri": "https://localhost:8080/"
        },
        "id": "55xnwKc5yiaf",
        "outputId": "d62b157a-2231-4f6c-fc20-d8d7a83eab27"
      },
      "execution_count": null,
      "outputs": [
        {
          "output_type": "stream",
          "name": "stdout",
          "text": [
            "[1, 2, 3, 4, 5]\n",
            "[1, 2, 3, 4, 5, 6]\n",
            "[1, 2, 4, 5, 6]\n",
            "[1, 2, 4, 5, 6]\n"
          ]
        }
      ]
    },
    {
      "cell_type": "markdown",
      "source": [
        "# 2.6 Try it yourself: Create a dictionary about yourself with at least 4 key-value pairs."
      ],
      "metadata": {
        "id": "8aR5q3emzJ8h"
      }
    },
    {
      "cell_type": "code",
      "source": [
        "DIC  = {\n",
        "\"Name\":\"Md Ashrafur Rahman\",\n",
        "\"Location\":\"KAsba\",\n",
        "\"Age\":24,\n",
        "\"Education\":\"BSc in CSE\",\n",
        "}\n",
        "\n",
        "print(DIC)\n",
        "print (Name)"
      ],
      "metadata": {
        "colab": {
          "base_uri": "https://localhost:8080/"
        },
        "id": "SYJ9aJ2TzLRp",
        "outputId": "c7f13829-b121-4b98-ee42-514e897bd7d9"
      },
      "execution_count": null,
      "outputs": [
        {
          "output_type": "stream",
          "name": "stdout",
          "text": [
            "{'Name': 'Md Ashrafur Rahman', 'Location': 'KAsba', 'Age': 24, 'Education': 'BSc in CSE'}\n",
            "Md Ashrafur Rahman\n"
          ]
        }
      ]
    },
    {
      "cell_type": "markdown",
      "source": [
        "# 2.7 Try it yourself: Create a tuple with the latitude and longitude of a famous place in Bangladesh."
      ],
      "metadata": {
        "id": "EMUtlxdt4LKN"
      }
    },
    {
      "cell_type": "code",
      "source": [],
      "metadata": {
        "id": "y80pUCyf4M1c"
      },
      "execution_count": null,
      "outputs": []
    },
    {
      "cell_type": "code",
      "metadata": {
        "colab": {
          "base_uri": "https://localhost:8080/"
        },
        "id": "65bbf462",
        "outputId": "ac913089-dd7d-49be-c8f9-c144dcbe29df"
      },
      "source": [
        "\n",
        "sundarbans_coordinates = (22.0833, 89.2000)\n",
        "\n",
        "print(sundarbans_coordinates)"
      ],
      "execution_count": null,
      "outputs": [
        {
          "output_type": "stream",
          "name": "stdout",
          "text": [
            "(22.0833, 89.2)\n"
          ]
        }
      ]
    },
    {
      "cell_type": "markdown",
      "source": [
        "2.8 Try it yourself: Create two sets of colors and find their union and intersection."
      ],
      "metadata": {
        "id": "PuwSFE1daDVH"
      }
    },
    {
      "cell_type": "code",
      "source": [
        "\n",
        "color1 = {\"red\", \"blue\", \"green\", \"yellow\"}\n",
        "Color2 = {\"blue\", \"orange\", \"purple\", \"red\"}\n",
        "\n",
        "union_color = color1 | Color2\n",
        "intersection_color = color1 & Color2\n",
        "print(union_color)\n",
        "print(intersection_color)\n",
        "\n"
      ],
      "metadata": {
        "colab": {
          "base_uri": "https://localhost:8080/"
        },
        "id": "555j7uMNaf0u",
        "outputId": "6cadc936-be48-47fc-b62a-9e32f8fbc9fd"
      },
      "execution_count": null,
      "outputs": [
        {
          "output_type": "stream",
          "name": "stdout",
          "text": [
            "{'orange', 'green', 'purple', 'blue', 'yellow', 'red'}\n",
            "{'red', 'blue'}\n"
          ]
        }
      ]
    },
    {
      "cell_type": "markdown",
      "source": [
        "# 2.9 Try it yourself: Write a program that checks if a number is positive, negative, or zero."
      ],
      "metadata": {
        "id": "_Bk1TEUUbJnZ"
      }
    },
    {
      "cell_type": "code",
      "source": [
        "num = float(input(\"Enter a number: \"))\n",
        "if num > 0:\n",
        "  print(\"The number is positive\")\n",
        "elif num < 0:\n",
        "  print(\"The number is negative\")\n",
        "else:\n",
        "  print(\"The number is zero\")"
      ],
      "metadata": {
        "colab": {
          "base_uri": "https://localhost:8080/"
        },
        "id": "-8aVW0qgbLWr",
        "outputId": "e55d5a7f-ee16-405e-a894-276a459b6f2a"
      },
      "execution_count": null,
      "outputs": [
        {
          "output_type": "stream",
          "name": "stdout",
          "text": [
            "Enter a number: 1\n",
            "The number is positive\n"
          ]
        }
      ]
    },
    {
      "cell_type": "markdown",
      "source": [
        "# 2.10 Try it yourself: Write a program that checks eligibility for a discount (student AND under 25, OR senior over 60)."
      ],
      "metadata": {
        "id": "LpbY0B_GdA3K"
      }
    },
    {
      "cell_type": "code",
      "source": [
        "age = float(input(\"Enter your age: \"))\n",
        "student = input(\"Are you a student? (yes/no): \")\n",
        "is_student = student.lower() == \"yes\"\n",
        "\n",
        "if (is_student and age < 25) or (age > 60):\n",
        "  print(\"You are eligible for a discount.\")\n",
        "else:\n",
        "  print(\"You are not eligible for a discount.\")"
      ],
      "metadata": {
        "colab": {
          "base_uri": "https://localhost:8080/"
        },
        "id": "r-f3S9-WCsdy",
        "outputId": "b093529b-f8a8-4cc9-9107-575cd6d4f161"
      },
      "execution_count": 6,
      "outputs": [
        {
          "output_type": "stream",
          "name": "stdout",
          "text": [
            "Enter your age: 70\n",
            "Are you a student? (yes/no): no\n",
            "You are eligible for a discount.\n"
          ]
        }
      ]
    },
    {
      "cell_type": "markdown",
      "source": [],
      "metadata": {
        "id": "Oud4K_crFTSY"
      }
    },
    {
      "cell_type": "markdown",
      "source": [
        "2.11 Try it yourself: Write a program that prints the first 10 even numbers\n",
        "# using a for or while loop."
      ],
      "metadata": {
        "id": "-LnwUj5wl5hi"
      }
    },
    {
      "cell_type": "code",
      "source": [
        "even_numbers_count = 0\n",
        "for number in range(0, 20):\n",
        "  if even_numbers_count < 10:\n",
        "    if number % 2 == 0:\n",
        "      print(number)\n",
        "      even_numbers_count += 1\n",
        "  else:\n",
        "    break"
      ],
      "metadata": {
        "colab": {
          "base_uri": "https://localhost:8080/"
        },
        "id": "KIHBviIAl7II",
        "outputId": "ce3e2e73-8cdb-49e3-9933-3befa0cca2e8"
      },
      "execution_count": null,
      "outputs": [
        {
          "output_type": "stream",
          "name": "stdout",
          "text": [
            "0\n",
            "2\n",
            "4\n",
            "6\n",
            "8\n",
            "10\n",
            "12\n",
            "14\n",
            "16\n",
            "18\n"
          ]
        }
      ]
    },
    {
      "cell_type": "markdown",
      "source": [
        "# 2.12 Try it yourself: Write a program that prints a simple number pyramid pattern using nested loops."
      ],
      "metadata": {
        "id": "_W58h9aimVxs"
      }
    },
    {
      "cell_type": "code",
      "source": [
        "\n",
        "rows = input(\"Enter the number of rows: \")\n",
        "rows = int(rows)\n",
        "\n",
        "for i in range(1, rows + 1):\n",
        "  for j in range(1, i + 1):\n",
        "    print(j, end=\" \")\n",
        "  print()"
      ],
      "metadata": {
        "colab": {
          "base_uri": "https://localhost:8080/"
        },
        "id": "_wPAzrWkmXiZ",
        "outputId": "54a57f50-4440-4a6e-af1e-30820668a40e"
      },
      "execution_count": null,
      "outputs": [
        {
          "output_type": "stream",
          "name": "stdout",
          "text": [
            "Enter the number of rows: 5\n",
            "1 \n",
            "1 2 \n",
            "1 2 3 \n",
            "1 2 3 4 \n",
            "1 2 3 4 5 \n"
          ]
        }
      ]
    },
    {
      "cell_type": "markdown",
      "source": [
        "# 2.13 Try it yourself: Create a function that converts temperature from Celsius to Fahrenheit using the formula: F = (C × 9/5) + 32"
      ],
      "metadata": {
        "id": "CiqOnYcpnJva"
      }
    },
    {
      "cell_type": "code",
      "source": [
        "celsius = float(input(\" Enter the celsius Number \"))\n",
        "fahrenheit = (celsius * 9/5) + 32\n",
        "print(fahrenheit)"
      ],
      "metadata": {
        "colab": {
          "base_uri": "https://localhost:8080/"
        },
        "id": "oBEGpjJ0C5fT",
        "outputId": "9e20f830-6b4f-4128-b780-c6caac021336"
      },
      "execution_count": 4,
      "outputs": [
        {
          "output_type": "stream",
          "name": "stdout",
          "text": [
            " Enter the celsius Number 20\n",
            "68.0\n"
          ]
        }
      ]
    },
    {
      "cell_type": "markdown",
      "source": [
        "# Create a function with default parameters that calculates the area of a rectangle."
      ],
      "metadata": {
        "id": "mBWDL5-XFarQ"
      }
    },
    {
      "cell_type": "code",
      "source": [
        "def calculate_rectangle_area(length=10.0, width=5.0):\n",
        "  area = length * width\n",
        "  return area"
      ],
      "metadata": {
        "id": "qqtweNeLGDep"
      },
      "execution_count": 12,
      "outputs": []
    },
    {
      "cell_type": "code",
      "source": [],
      "metadata": {
        "id": "h8wCgIhuGoRC"
      },
      "execution_count": null,
      "outputs": []
    }
  ]
}