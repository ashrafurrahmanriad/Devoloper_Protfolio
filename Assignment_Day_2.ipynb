{
  "nbformat": 4,
  "nbformat_minor": 0,
  "metadata": {
    "colab": {
      "provenance": [],
      "authorship_tag": "ABX9TyP1xo3H/rhBPIJuuRA3mT7i",
      "include_colab_link": true
    },
    "kernelspec": {
      "name": "python3",
      "display_name": "Python 3"
    },
    "language_info": {
      "name": "python"
    }
  },
  "cells": [
    {
      "cell_type": "markdown",
      "metadata": {
        "id": "view-in-github",
        "colab_type": "text"
      },
      "source": [
        "<a href=\"https://colab.research.google.com/github/ashrafurrahmanriad/Devoloper_Protfolio/blob/main/Assignment_Day_2.ipynb\" target=\"_parent\"><img src=\"https://colab.research.google.com/assets/colab-badge.svg\" alt=\"Open In Colab\"/></a>"
      ]
    },
    {
      "cell_type": "markdown",
      "source": [
        "# 2.1. Try it yourself: Create variables for your name, age, and favorite color, then print them with descriptive labels."
      ],
      "metadata": {
        "id": "KyPjMpEMpCJ0"
      }
    },
    {
      "cell_type": "code",
      "source": [
        "Name = \"Md Ashrafur Rahman\"\n",
        "Age = 24\n",
        "Favorite_Color = \"Blue\"\n",
        "print(Name)\n",
        "print(Age)\n",
        "print(Favorite_Color)"
      ],
      "metadata": {
        "colab": {
          "base_uri": "https://localhost:8080/"
        },
        "id": "wi5X73yepGNN",
        "outputId": "d8d028c4-7849-44d5-a6b7-a178bc2295f8"
      },
      "execution_count": 1,
      "outputs": [
        {
          "output_type": "stream",
          "name": "stdout",
          "text": [
            "Md Ashrafur Rahman\n",
            "24\n",
            "Blue\n"
          ]
        }
      ]
    },
    {
      "cell_type": "markdown",
      "source": [
        "# 2.2. Try it yourself: Create one variable of each type and use the type() function to verify its type."
      ],
      "metadata": {
        "id": "Hd0dpbu3pd4H"
      }
    },
    {
      "cell_type": "code",
      "source": [
        "Name = \"Md Ashrafur Rahman\"\n",
        "Age = 24\n",
        "Weight = 24.44\n",
        "Area =2.3942832382\n",
        "Favorite_Color = \"Blue\"\n",
        "Is_B00leant = True\n",
        "complex_number = 5 + 3j\n",
        "result = None\n",
        "print(type(result))\n",
        "print(type(complex_number))\n",
        "print(type(Is_B00leant))\n",
        "print(type(Area))\n",
        "print(type(Name))\n",
        "print(type(Weight))\n",
        "print(type(Age))\n",
        "print(type(Favorite_Color))"
      ],
      "metadata": {
        "colab": {
          "base_uri": "https://localhost:8080/"
        },
        "id": "c2rMc3l1poBF",
        "outputId": "159c9036-e346-448d-8103-1e5d04ce4ed2"
      },
      "execution_count": 6,
      "outputs": [
        {
          "output_type": "stream",
          "name": "stdout",
          "text": [
            "<class 'complex'>\n",
            "<class 'bool'>\n",
            "<class 'float'>\n",
            "<class 'str'>\n",
            "<class 'float'>\n",
            "<class 'int'>\n",
            "<class 'str'>\n"
          ]
        }
      ]
    },
    {
      "cell_type": "markdown",
      "source": [
        "# 2.3. Try it yourself: Calculate the area and perimeter of a rectangle with length 7 and width 5."
      ],
      "metadata": {
        "id": "fGue1sXDsfR_"
      }
    },
    {
      "cell_type": "code",
      "source": [
        "Length = 7\n",
        "Width = 5\n",
        "\n",
        "Area_Of_Rectangle = Length*Width\n",
        "Perimeter_Of_Rectangle = 2*(Length+Width)\n",
        "print(Area_Of_Rectangle)\n",
        "print(Perimeter_Of_Rectangle)"
      ],
      "metadata": {
        "colab": {
          "base_uri": "https://localhost:8080/"
        },
        "id": "ed01jjuhtbKA",
        "outputId": "19f9181a-f924-4b7b-c9a8-c669180e7008"
      },
      "execution_count": 22,
      "outputs": [
        {
          "output_type": "stream",
          "name": "stdout",
          "text": [
            "35\n",
            "24\n"
          ]
        }
      ]
    },
    {
      "cell_type": "markdown",
      "source": [
        "# 2.4. Try it yourself: Create a list of 5 Bangladeshi foods, then access the first and last elements."
      ],
      "metadata": {
        "id": "fLT_6ixex0ic"
      }
    },
    {
      "cell_type": "code",
      "source": [
        "Food = [\"Mango\",\"Banana\", \"JAckFruit\",\"Black Berry\",\"Berry\"]\n",
        "print (Food)\n",
        "print(Food[0])\n",
        "print(Food[-1])\n"
      ],
      "metadata": {
        "colab": {
          "base_uri": "https://localhost:8080/"
        },
        "id": "pv8nMaatx4zv",
        "outputId": "b5194541-9097-4572-fede-66889b833ad4"
      },
      "execution_count": 12,
      "outputs": [
        {
          "output_type": "stream",
          "name": "stdout",
          "text": [
            "['Mango', 'Banana', 'JAckFruit', 'Black Berry', 'Berry']\n",
            "Mango\n",
            "Berry\n"
          ]
        }
      ]
    },
    {
      "cell_type": "markdown",
      "source": [
        "# 2.5 Try it yourself: Create a list of 5 numbers, add a new number, remove one, and then sort the list."
      ],
      "metadata": {
        "id": "MazO-KqkyUNf"
      }
    },
    {
      "cell_type": "code",
      "source": [
        "Number = [1,2,3,4,5]\n",
        "print(Number)\n",
        "Number.append(6)\n",
        "print(Number)\n",
        "Number.remove(3)\n",
        "print(Number)\n",
        "Number.sort()\n",
        "print(Number)\n"
      ],
      "metadata": {
        "colab": {
          "base_uri": "https://localhost:8080/"
        },
        "id": "55xnwKc5yiaf",
        "outputId": "d62b157a-2231-4f6c-fc20-d8d7a83eab27"
      },
      "execution_count": 17,
      "outputs": [
        {
          "output_type": "stream",
          "name": "stdout",
          "text": [
            "[1, 2, 3, 4, 5]\n",
            "[1, 2, 3, 4, 5, 6]\n",
            "[1, 2, 4, 5, 6]\n",
            "[1, 2, 4, 5, 6]\n"
          ]
        }
      ]
    },
    {
      "cell_type": "markdown",
      "source": [
        "# 2.6 Try it yourself: Create a dictionary about yourself with at least 4 key-value pairs."
      ],
      "metadata": {
        "id": "8aR5q3emzJ8h"
      }
    },
    {
      "cell_type": "code",
      "source": [
        "DIC  = {\n",
        "\"Name\":\"Md Ashrafur Rahman\",\n",
        "\"Location\":\"KAsba\",\n",
        "\"Age\":24,\n",
        "\"Education\":\"BSc in CSE\",\n",
        "}\n",
        "\n",
        "print(DIC)\n",
        "print (Name)"
      ],
      "metadata": {
        "colab": {
          "base_uri": "https://localhost:8080/"
        },
        "id": "SYJ9aJ2TzLRp",
        "outputId": "c7f13829-b121-4b98-ee42-514e897bd7d9"
      },
      "execution_count": 20,
      "outputs": [
        {
          "output_type": "stream",
          "name": "stdout",
          "text": [
            "{'Name': 'Md Ashrafur Rahman', 'Location': 'KAsba', 'Age': 24, 'Education': 'BSc in CSE'}\n",
            "Md Ashrafur Rahman\n"
          ]
        }
      ]
    },
    {
      "cell_type": "markdown",
      "source": [
        "# 2.7 Try it yourself: Create a tuple with the latitude and longitude of a famous place in Bangladesh."
      ],
      "metadata": {
        "id": "EMUtlxdt4LKN"
      }
    },
    {
      "cell_type": "code",
      "source": [],
      "metadata": {
        "id": "y80pUCyf4M1c"
      },
      "execution_count": null,
      "outputs": []
    }
  ]
}